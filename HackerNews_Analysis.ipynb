{
 "cells": [
  {
   "cell_type": "markdown",
   "metadata": {
    "collapsed": true
   },
   "source": [
    "# Analysis of Submissions to Hacker News\n",
    "\n",
    "The purpose of this project is to examine post submissions to the Hacker News online community and determine if posts of a certain type receive more attention from readers.\n",
    "\n",
    "There are 2 primary types of post in Hacker News, \"Ask HN\" and \"Show HN\" posts. As their names imply, some posts ask the community for answers or feedback, while other serve the purpose of providing information to the community.\n",
    "\n",
    "Our analysis will examine whether posts of the \"Ask\" or \"Show\" nature receive more comments than their counterparts.\n",
    "\n",
    "Timing of post sumbmissions can be very impactful in online forums. Posts made during off-work hours may receive more attention and comments than posts made when most people are asleep or busy.\n",
    "\n",
    "The other aspect of this analysis will examine post submission times to see if submission time may affect the engagement with a post.\n",
    "\n",
    "## Data\n",
    "\n",
    "### Structure\n",
    "\n",
    "The data from Hacker News was retrieved from: <link>https://news.ycombinator.com/</link>\n",
    "\n",
    "The original dataset contains ~300,000 records, but was pared down to 20,000 by removing submissions with 0 comments, then randomly sampling the remaining submissions.\n",
    "\n",
    "The source dataset can be downloaded from Kaggle.com: <link>https://www.kaggle.com/hacker-news/hacker-news-posts#HN_posts_year_to_Sep_26_2016.csv</link>\n",
    "\n",
    "The dataset contains the following fields:\n",
    "\n",
    "- <code>id</code>: Unique post identifier from Hacker News\n",
    "- <code>title</code>: Post title\n",
    "- <code>url</code>: URL that the post links to, if present\n",
    "- <code>num_points</code>: Total number of points (upvotes - downvotes)\n",
    "- <code>num_comments</code>: Number of comments on the post\n",
    "- <code>author</code>: Username of the submitter\n",
    "- <code>created_at</code>: The date and time of the submissions\n",
    "\n",
    "### Import\n",
    "\n",
    "We'll begin analysis by importing the dataset and removing the header row: <code> hacker_news.csv </code>\n"
   ]
  },
  {
   "cell_type": "code",
   "execution_count": 4,
   "metadata": {},
   "outputs": [
    {
     "name": "stdout",
     "output_type": "stream",
     "text": [
      "['id', 'title', 'url', 'num_points', 'num_comments', 'author', 'created_at']\n"
     ]
    }
   ],
   "source": [
    "import csv\n",
    "\n",
    "hn = []\n",
    "\n",
    "with open('hacker_news.csv', encoding='utf8') as csv_file:\n",
    "    read_file = csv.reader(csv_file, delimiter = ',')\n",
    "    for row in read_file:\n",
    "        hn.append(row)\n",
    "\n",
    "headers = hn[0]\n",
    "hn = hn[1:]\n",
    "\n",
    "print(headers)"
   ]
  },
  {
   "cell_type": "code",
   "execution_count": 5,
   "metadata": {},
   "outputs": [
    {
     "name": "stdout",
     "output_type": "stream",
     "text": [
      "[['11793140', 'How unauthorized idiots repair Apple laptops [video]', 'https://www.youtube.com/watch?v=ocF_hrr83Oc', '18', '2', 'sshykes', '5/28/2016 19:51'], ['11925546', 'Crisis based forking can pierce the Decentralized Veil of Ethereum', 'https://blog.stakeventures.com/articles/piercing-ethereums-veil', '25', '8', 'pelle', '6/17/2016 21:05'], ['10241589', 'What sort of a job could I find with my background?', '', '1', '2', 'Teichopsia', '9/18/2015 19:39'], ['11741623', 'Bounty for Open-Source Diabetic pump control exceeds $11,000', 'http://www.openomni.org', '3', '1', 'oskarpearson', '5/20/2016 21:21'], ['12332813', 'Last Vesper Update, Sync Shutting Down', 'http://inessential.com/2016/08/21/last_vesper_update_sync_shutting_down', '4', '1', 'stephenr', '8/21/2016 21:28']]\n"
     ]
    }
   ],
   "source": [
    "print(hn[0:5])"
   ]
  },
  {
   "cell_type": "markdown",
   "metadata": {},
   "source": [
    "### Post Types\n",
    "\n",
    "The analysis calls for comparing engagement between the \"Ask\" and \"Show\" post types. Therefore we must identify and separate out these types of posts.\n",
    "\n",
    "To do so, we'll examine the title for the phrase \"Ask HN\" and \"Show HN\", grouping each post into its respective group based on the title contents.\n",
    "\n",
    "Note that it is possible a post may not fit into either category. Such posts will be tagged and collected as \"Other\"."
   ]
  },
  {
   "cell_type": "code",
   "execution_count": 6,
   "metadata": {},
   "outputs": [
    {
     "name": "stdout",
     "output_type": "stream",
     "text": [
      "Ask Posts:  1688 \n",
      "Show Posts:  1277 \n",
      "Other Posts:  17035\n"
     ]
    }
   ],
   "source": [
    "ask_posts = []\n",
    "show_posts = []\n",
    "other_posts = []\n",
    "\n",
    "for row in hn:\n",
    "    title = row[1].lower()\n",
    "    if title.startswith('ask hn'):\n",
    "        ask_posts.append(row)\n",
    "    elif title.startswith('show hn'):\n",
    "        show_posts.append(row)\n",
    "    else:\n",
    "        other_posts.append(row)\n",
    "\n",
    "print('Ask Posts: ', len(ask_posts), '\\nShow Posts: ', len(show_posts),\n",
    "      '\\nOther Posts: ', len(other_posts))"
   ]
  },
  {
   "cell_type": "markdown",
   "metadata": {
    "collapsed": true
   },
   "source": [
    "## Analysis\n",
    "\n",
    "### Number of Comments\n",
    "\n",
    "The data is now cleaned and ready for analysis. One of the metrics for determining post engagement is number of comments. We will calculate the total and average number of comments on each post type for comparison."
   ]
  },
  {
   "cell_type": "code",
   "execution_count": 7,
   "metadata": {},
   "outputs": [
    {
     "name": "stdout",
     "output_type": "stream",
     "text": [
      "Total \"Ask\" Comments:  23392 \n",
      "Average Comments per \"Ask\" Post:  13.85781990521327\n"
     ]
    }
   ],
   "source": [
    "total_ask_comments = 0\n",
    "\n",
    "for post in ask_posts:\n",
    "    total_ask_comments += int(post[4])\n",
    "\n",
    "avg_ask_comments = total_ask_comments / len(ask_posts)\n",
    "\n",
    "print('Total \"Ask\" Comments: ', total_ask_comments,\n",
    "     '\\nAverage Comments per \"Ask\" Post: ', avg_ask_comments)"
   ]
  },
  {
   "cell_type": "code",
   "execution_count": 8,
   "metadata": {},
   "outputs": [
    {
     "name": "stdout",
     "output_type": "stream",
     "text": [
      "Total \"Show\" Comments:  12136 \n",
      "Average Comments per \"Show\" Post:  9.503523884103368\n"
     ]
    }
   ],
   "source": [
    "total_show_comments = 0\n",
    "\n",
    "for post in show_posts:\n",
    "    total_show_comments += int(post[4])\n",
    "\n",
    "avg_show_comments = total_show_comments / len(show_posts)\n",
    "\n",
    "print('Total \"Show\" Comments: ', total_show_comments,\n",
    "     '\\nAverage Comments per \"Show\" Post: ', avg_show_comments)"
   ]
  },
  {
   "cell_type": "markdown",
   "metadata": {},
   "source": [
    "\"Ask\" posts receive about 4 more comments on average than \"Show\" posts.\n",
    "\n",
    "This result is expected. The purpose of an \"Ask\" post is to solicit information or feedback. \"Show\" posts can spark discussion, but even users who appreciate the information may not feel the need to engage via a comment on the post. A successful \"Show\" post can measure its engagement through views or votes, whereas an \"Ask\" post needs comments else its question will go unanswered."
   ]
  },
  {
   "cell_type": "markdown",
   "metadata": {},
   "source": [
    "### Submission Timing\n",
    "\n",
    "We've determined that \"Ask\" posts receive more comments on average than \"Show\" posts. But what if there are other factors that affect post engagement? One such factor could be time of day the post was submitted.\n",
    "\n",
    "We can hypothesize that posts submitted during people's free time would elicit higher engagement than posts submitted late at night or during work hours.\n",
    "\n",
    "To examine this possibility, we'll make use of the <code>datetime</code> module to calculate number of comments by hour in which the post is submitted."
   ]
  },
  {
   "cell_type": "code",
   "execution_count": 11,
   "metadata": {},
   "outputs": [
    {
     "name": "stdout",
     "output_type": "stream",
     "text": [
      "{'01': 50, '21': 92, '07': 42, '19': 97, '13': 94, '02': 43, '10': 51, '12': 58, '16': 102, '23': 73, '18': 108, '11': 56, '22': 68, '14': 92, '15': 137, '17': 101, '20': 89, '05': 40, '09': 42, '00': 58, '03': 61, '04': 50, '08': 38, '06': 46} \n",
      " {'01': 375, '21': 807, '07': 205, '19': 1057, '13': 2529, '02': 395, '10': 588, '12': 1036, '16': 1114, '23': 468, '18': 1269, '11': 675, '22': 572, '14': 1513, '15': 5209, '17': 1878, '20': 921, '05': 185, '09': 325, '00': 634, '03': 497, '04': 438, '08': 395, '06': 307}\n"
     ]
    }
   ],
   "source": [
    "import datetime as dt\n",
    "\n",
    "result_list = []\n",
    "\n",
    "for post in ask_posts:\n",
    "    created_at = post[6]\n",
    "    comments = post[4]\n",
    "    result_list.append([created_at, comments])\n",
    "\n",
    "counts_by_hour = {}\n",
    "comments_by_hour = {}\n",
    "\n",
    "for row in result_list:\n",
    "    date = dt.datetime.strptime(row[0], '%m/%d/%Y %H:%M')\n",
    "    hour = date.strftime('%H')\n",
    "    comments = int(row[1])\n",
    "    if hour not in counts_by_hour:\n",
    "        counts_by_hour[hour] = 1\n",
    "        comments_by_hour[hour] = comments\n",
    "    else:\n",
    "        counts_by_hour[hour] += 1\n",
    "        comments_by_hour[hour] += comments\n",
    "\n",
    "print(counts_by_hour,'\\n',comments_by_hour)"
   ]
  },
  {
   "cell_type": "markdown",
   "metadata": {},
   "source": [
    "### Average Comments\n",
    "\n",
    "The previous results contain 2 lists, one with the hour of the day and corresponding number of posts, and the other with hour of the day and total number of comments. These 2 lists provide us with the information needed to calculate an average number of comments per post, per hour in the day.\n",
    "\n",
    "This next section calculates the average for each hour, then sorts the results and displays the top 5 hours of the day based on the highest average comments per post."
   ]
  },
  {
   "cell_type": "code",
   "execution_count": 12,
   "metadata": {},
   "outputs": [
    {
     "name": "stdout",
     "output_type": "stream",
     "text": [
      "\n",
      "Top 5 Hours for Ask Post Comments\n",
      "\n",
      "15:00: 38.02 average comments\n",
      "13:00: 26.90 average comments\n",
      "17:00: 18.59 average comments\n",
      "12:00: 17.86 average comments\n",
      "14:00: 16.45 average comments\n"
     ]
    }
   ],
   "source": [
    "avg_by_hour = []\n",
    "\n",
    "for hour in counts_by_hour:\n",
    "    comments = comments_by_hour[hour]\n",
    "    average = comments / counts_by_hour[hour]\n",
    "    avg_by_hour.append([hour, average])\n",
    "    \n",
    "swap_avg_by_hour = []\n",
    "\n",
    "for row in avg_by_hour:\n",
    "    swap_avg_by_hour.append([row[1], row[0]])\n",
    "\n",
    "sorted_swap = sorted(swap_avg_by_hour, reverse = True)\n",
    "\n",
    "print(\"\\nTop 5 Hours for Ask Post Comments\\n\")\n",
    "\n",
    "for avg in sorted_swap[0:5]:\n",
    "    print(\"{1}:00: {0:.2f} average comments\".format(avg[0],avg[1]))"
   ]
  },
  {
   "cell_type": "markdown",
   "metadata": {},
   "source": [
    "## Results\n",
    "\n",
    "Calculating the average number of comments revealed that 15:00 or 3:00 PM is the optimum hour to submit an \"Ask\" post to receive the highest number of comments on average at 38.02 comments. The averages drop quickly with 02:00 at second highest with 26.90 and ending with 14:00 at the lowest of the top 5 with 16.01 comments.\n",
    "\n",
    "Looking at the top 5 hours, we see that 12:00 through 15:00 are adjacent. A cursory thought is that these times may correlate with slower afternoons during work days or free time during most people's lunch hour. Therefore if the goal is to increase an \"Ask\" post's comments, it is recommended to submit the post between 12:00 and 15:00.\n",
    "\n",
    "## Considerations & Next Steps\n",
    "\n",
    "Comments are a great way to measure engagement with a post on Hacker News. They are certainly not the only metric though. This project limited it's scope to comments of just certain types of posts. Other engagement metrics such as view and votes were not considered but may play a significant role in measuring overall engagement.\n",
    "\n",
    "The next steps for determining when the best time to submit a post is involve a similar examination of views and votes. Analyzing all 3 metrics across time should provide a more sophisticated recommendation on the optimum submission time for maximizing engagement."
   ]
  }
 ],
 "metadata": {
  "kernelspec": {
   "display_name": "Python 3",
   "language": "python",
   "name": "python3"
  },
  "language_info": {
   "codemirror_mode": {
    "name": "ipython",
    "version": 3
   },
   "file_extension": ".py",
   "mimetype": "text/x-python",
   "name": "python",
   "nbconvert_exporter": "python",
   "pygments_lexer": "ipython3",
   "version": "3.7.4"
  }
 },
 "nbformat": 4,
 "nbformat_minor": 2
}
